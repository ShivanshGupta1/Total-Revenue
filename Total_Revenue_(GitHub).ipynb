{
  "nbformat": 4,
  "nbformat_minor": 0,
  "metadata": {
    "colab": {
      "name": "Total Revenue (GitHub).ipynb",
      "provenance": [],
      "authorship_tag": "ABX9TyPYLODj6pGbyuY7O1J+Dkfx",
      "include_colab_link": true
    },
    "kernelspec": {
      "name": "python3",
      "display_name": "Python 3"
    }
  },
  "cells": [
    {
      "cell_type": "markdown",
      "metadata": {
        "id": "view-in-github",
        "colab_type": "text"
      },
      "source": [
        "<a href=\"https://colab.research.google.com/github/ShivanshGupta1/Total-Revenue/blob/main/Total_Revenue_(GitHub).ipynb\" target=\"_parent\"><img src=\"https://colab.research.google.com/assets/colab-badge.svg\" alt=\"Open In Colab\"/></a>"
      ]
    },
    {
      "cell_type": "code",
      "metadata": {
        "id": "V6z-QZ0mszfz"
      },
      "source": [
        "price = {#This is a dictionary with all the prices of the items\n",
        "    \"banana\":4, \n",
        "    \"apple\":2,\n",
        "    \"orange\":1.5,\n",
        "    \"pear\":3\n",
        "}\n",
        "stock = {#This is a dictionary with all the stocks\n",
        "   \"banana\":6,\n",
        "   \"apple\":0,\n",
        "   \"orange\":32,\n",
        "   \"pear\":15\n",
        "}\n",
        "totalRevenue = 0; #This variable will later store the total revenue of the buisness\n",
        "def revenue(stock,price,totalRevenue):#This is a function to find out the total revenue\n",
        " for i in stock:#This is a for loop for checking every elemnt in the stock dictionary\n",
        "   if stock[i]>0:#It checks if the value of the stock is greater then one\n",
        "     totalRevenue = totalRevenue + stock[i]*price[i]; #Here it multiplies the stock value by the price, to get the total price, and adds it to the toal revenue variable\n",
        " print(totalRevenue)#Here it prints the total revenue\n",
        "revenue(stock,price,totalRevenue);#This calls the function"
      ],
      "execution_count": null,
      "outputs": []
    }
  ]
}